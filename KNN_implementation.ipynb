{
 "cells": [
  {
   "cell_type": "code",
   "execution_count": 1,
   "id": "adbd2120",
   "metadata": {},
   "outputs": [],
   "source": [
    "import numpy as np\n",
    "import pandas as pd\n",
    "from collections import Counter"
   ]
  },
  {
   "cell_type": "code",
   "execution_count": 2,
   "id": "28fa9290",
   "metadata": {},
   "outputs": [],
   "source": [
    "class KNearestNeighbor(object):\n",
    "    \"\"\"a kNN classifier with multiple distance metrics\"\"\"\n",
    "\n",
    "    def __init__(self, X_train, y_train):\n",
    "        \"\"\"\n",
    "        Initializing the KNN object\n",
    "        \"\"\"\n",
    "        self.X_train = X_train\n",
    "        self.y_train = y_train\n",
    "\n",
    "    def fit_predict(self, X_test, k=1, distance=\"hamming\"):\n",
    "        \"\"\"\n",
    "        Fits the model and predicts labels for test data.\n",
    "\n",
    "        Parameters:\n",
    "        - X_test: Test data\n",
    "        - k: Number of nearest neighbors\n",
    "        - distance: Distance metric ('hamming', 'euclidean', 'manhattan')\n",
    "        \"\"\"\n",
    "        dists = self.compute_distances(X_test, distance)\n",
    "        return self.predict_labels(dists, k=k)\n",
    "\n",
    "    def compute_distances(self, X_test, distance=\"hamming\"):\n",
    "        \"\"\"\n",
    "        Compute the distance between each test and train point.\n",
    "        Supported distances: 'hamming', 'euclidean', 'manhattan'\n",
    "        \"\"\"\n",
    "        X_test = np.array(X_test)\n",
    "        test_num = X_test.shape[0]\n",
    "        train_num = self.X_train.shape[0]\n",
    "        dists = np.zeros((test_num, train_num))\n",
    "\n",
    "        for i in range(test_num):\n",
    "          for j in range(train_num):\n",
    "            if distance == 'hamming':\n",
    "              dists[i][j] = np.mean(X_test[i] != self.X_train[j])\n",
    "            elif distance == 'euclidean':\n",
    "              dists[i][j] = np.sqrt(np.sum((X_test[i] - self.X_train[j]) ** 2))\n",
    "            elif distance == 'manhattan':\n",
    "              dists[i][j] = np.sum(np.abs(X_test[i] - self.X_train[j]))\n",
    "            else:\n",
    "              raise ValueError('Unknown distance type')\n",
    "        return dists\n",
    "\n",
    "    def predict_labels(self, dists, k=1):\n",
    "        \"\"\"\n",
    "        Predict labels based on nearest neighbors.\n",
    "        \"\"\"\n",
    "        num_test = dists.shape[0]\n",
    "        y_pred = np.zeros(num_test, dtype=int)\n",
    "\n",
    "        for i in range(num_test):\n",
    "          distances = dists[i]\n",
    "          nearest_indices = np.argsort(distances)[:k]\n",
    "          nearest_labels = self.y_train[nearest_indices]\n",
    "          most_common_label = Counter(nearest_labels).most_common(1)[0][0]\n",
    "          y_pred[i] = most_common_label\n",
    "        return y_pred"
   ]
  },
  {
   "cell_type": "code",
   "execution_count": 3,
   "id": "e29e5239",
   "metadata": {},
   "outputs": [],
   "source": [
    "# Training data\n",
    "X_train = np.array([\n",
    "    [1, 0, 1],\n",
    "    [0, 1, 0],\n",
    "    [1, 1, 1],\n",
    "    [0, 0, 0]\n",
    "])\n",
    "y_train = np.array([0, 1, 0, 1])\n",
    "\n",
    "# Test data\n",
    "X_test = np.array([\n",
    "    [1, 0, 0],\n",
    "    [0, 1, 1]\n",
    "])"
   ]
  },
  {
   "cell_type": "code",
   "execution_count": 4,
   "id": "1a63db99",
   "metadata": {},
   "outputs": [
    {
     "name": "stdout",
     "output_type": "stream",
     "text": [
      "Distance: hamming -> Predictions: [0 1]\n",
      "Distance: euclidean -> Predictions: [0 1]\n",
      "Distance: manhattan -> Predictions: [0 1]\n"
     ]
    }
   ],
   "source": [
    "knn = KNearestNeighbor(X_train, y_train)\n",
    "\n",
    "for dist in [\"hamming\", \"euclidean\", \"manhattan\"]:\n",
    "    y_pred = knn.fit_predict(X_test, k=1, distance=dist)\n",
    "    print(f\"Distance: {dist} -> Predictions: {y_pred}\")"
   ]
  }
 ],
 "metadata": {
  "kernelspec": {
   "display_name": "Python 3",
   "language": "python",
   "name": "python3"
  },
  "language_info": {
   "codemirror_mode": {
    "name": "ipython",
    "version": 3
   },
   "file_extension": ".py",
   "mimetype": "text/x-python",
   "name": "python",
   "nbconvert_exporter": "python",
   "pygments_lexer": "ipython3",
   "version": "3.11.9"
  }
 },
 "nbformat": 4,
 "nbformat_minor": 5
}
